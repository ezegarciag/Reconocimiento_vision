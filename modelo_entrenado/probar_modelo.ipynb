{
 "cells": [
  {
   "cell_type": "code",
   "execution_count": 16,
   "metadata": {},
   "outputs": [
    {
     "name": "stderr",
     "output_type": "stream",
     "text": [
      "/home/ezequielgarcia/Entorno V/zeke/lib64/python3.11/site-packages/keras/src/saving/saving_lib.py:415: UserWarning: Skipping variable loading for optimizer 'rmsprop', because it has 4 variables whereas the saved optimizer has 6 variables. \n",
      "  saveable.load_own_variables(weights_store.get(inner_path))\n"
     ]
    }
   ],
   "source": [
    "import tensorflow as tf\n",
    "import numpy as np\n",
    "\n",
    "\n",
    "# Especifica la ruta al archivo de configuración del modelo en formato JSON\n",
    "config_path = '/home/ezequielgarcia/Escritorio/proyecto reconocimiento/modelo_ultimo_este_si/modelo_entrenado/config.json'\n",
    "\n",
    "# Carga la configuración del modelo\n",
    "with open(config_path, 'r') as f:\n",
    "    config = f.read()\n",
    "\n",
    "# Crea el modelo a partir de la configuración\n",
    "model = tf.keras.models.model_from_json(config)\n",
    "\n",
    "# Especifica la ruta al archivo .h5 que contiene los pesos del modelo\n",
    "weights_path = '/home/ezequielgarcia/Escritorio/proyecto reconocimiento/modelo_ultimo_este_si/modelo_entrenado/model.weights.h5'\n",
    "\n",
    "# Carga los pesos del modelo\n",
    "model.load_weights(weights_path)\n"
   ]
  },
  {
   "cell_type": "code",
   "execution_count": 17,
   "metadata": {},
   "outputs": [],
   "source": [
    "#Categorizar una imagen de internet\n",
    "from PIL import Image\n",
    "import requests\n",
    "from io import BytesIO\n",
    "import cv2\n",
    "\n",
    "def categorizar(url):\n",
    "  respuesta = requests.get(url)\n",
    "  img = Image.open(BytesIO(respuesta.content))\n",
    "  img = np.array(img).astype(float)/255\n",
    "\n",
    "  img = cv2.resize(img, (224,224))\n",
    "  prediccion = model.predict(img.reshape(-1, 224, 224, 3))\n",
    "  return prediccion"
   ]
  },
  {
   "cell_type": "code",
   "execution_count": 18,
   "metadata": {},
   "outputs": [
    {
     "name": "stdout",
     "output_type": "stream",
     "text": [
      "\u001b[1m1/1\u001b[0m \u001b[32m━━━━━━━━━━━━━━━━━━━━\u001b[0m\u001b[37m\u001b[0m \u001b[1m2s\u001b[0m 2s/step\n",
      "[[0.00269047 0.99730957]]\n"
     ]
    }
   ],
   "source": [
    "#0 = gato, 1 = perro\n",
    "url = \"https://i.ebayimg.com/images/g/q10AAOSwuAxleGFu/s-l1600.jpg\"\n",
    "prediccion = categorizar(url)\n",
    "print(prediccion)"
   ]
  }
 ],
 "metadata": {
  "kernelspec": {
   "display_name": "zekekernel",
   "language": "python",
   "name": "zekekernel"
  },
  "language_info": {
   "codemirror_mode": {
    "name": "ipython",
    "version": 3
   },
   "file_extension": ".py",
   "mimetype": "text/x-python",
   "name": "python",
   "nbconvert_exporter": "python",
   "pygments_lexer": "ipython3",
   "version": "3.11.9"
  }
 },
 "nbformat": 4,
 "nbformat_minor": 2
}
