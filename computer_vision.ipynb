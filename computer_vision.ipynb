{
 "cells": [
  {
   "cell_type": "code",
   "execution_count": 2,
   "metadata": {},
   "outputs": [
    {
     "name": "stderr",
     "output_type": "stream",
     "text": [
      "2024-05-15 13:10:36.294955: I tensorflow/core/platform/cpu_feature_guard.cc:210] This TensorFlow binary is optimized to use available CPU instructions in performance-critical operations.\n",
      "To enable the following instructions: AVX2 FMA, in other operations, rebuild TensorFlow with the appropriate compiler flags.\n",
      "2024-05-15 13:10:37.906124: W tensorflow/compiler/tf2tensorrt/utils/py_utils.cc:38] TF-TRT Warning: Could not find TensorRT\n"
     ]
    }
   ],
   "source": [
    "import cv2\n",
    "import tensorflow as tf\n",
    "import numpy as np\n"
   ]
  },
  {
   "cell_type": "code",
   "execution_count": 3,
   "metadata": {},
   "outputs": [
    {
     "name": "stderr",
     "output_type": "stream",
     "text": [
      "/home/ezequielgarcia/Entorno V/zeke/lib64/python3.11/site-packages/keras/src/saving/saving_lib.py:415: UserWarning: Skipping variable loading for optimizer 'rmsprop', because it has 4 variables whereas the saved optimizer has 6 variables. \n",
      "  saveable.load_own_variables(weights_store.get(inner_path))\n"
     ]
    }
   ],
   "source": [
    "import tensorflow as tf\n",
    "import numpy as np\n",
    "\n",
    "\n",
    "# Especifica la ruta al archivo de configuración del modelo en formato JSON\n",
    "config_path = '/home/ezequielgarcia/Escritorio/proyecto reconocimiento/modelo_ultimo_este_si/modelo_entrenado/config.json'\n",
    "\n",
    "# Carga la configuración del modelo\n",
    "with open(config_path, 'r') as f:\n",
    "    config = f.read()\n",
    "\n",
    "# Crea el modelo a partir de la configuración\n",
    "model = tf.keras.models.model_from_json(config)\n",
    "\n",
    "# Especifica la ruta al archivo .h5 que contiene los pesos del modelo\n",
    "weights_path = '/home/ezequielgarcia/Escritorio/proyecto reconocimiento/modelo_ultimo_este_si/modelo_entrenado/model.weights.h5'\n",
    "\n",
    "# Carga los pesos del modelo\n",
    "model.load_weights(weights_path)\n",
    "\n",
    "\n"
   ]
  },
  {
   "cell_type": "code",
   "execution_count": 4,
   "metadata": {},
   "outputs": [],
   "source": [
    "#Categorizar una imagen de internet\n",
    "from PIL import Image\n",
    "import requests\n",
    "from io import BytesIO\n",
    "import cv2\n",
    "\n",
    "def categorizar(url):\n",
    "  respuesta = requests.get(url)\n",
    "  img = Image.open(BytesIO(respuesta.content))\n",
    "  img = np.array(img).astype(float)/255\n",
    "\n",
    "  img = cv2.resize(img, (224,224))\n",
    "  prediccion = model.predict(img.reshape(-1, 224, 224, 3))\n",
    "  return prediccion"
   ]
  },
  {
   "cell_type": "code",
   "execution_count": 5,
   "metadata": {},
   "outputs": [
    {
     "name": "stdout",
     "output_type": "stream",
     "text": [
      "\u001b[1m1/1\u001b[0m \u001b[32m━━━━━━━━━━━━━━━━━━━━\u001b[0m\u001b[37m\u001b[0m \u001b[1m1s\u001b[0m 1s/step\n",
      "[[0.00269047 0.99730957]]\n"
     ]
    }
   ],
   "source": [
    "#0 = gato, 1 = perro\n",
    "url = \"https://i.ebayimg.com/images/g/q10AAOSwuAxleGFu/s-l1600.jpg\"\n",
    "prediccion = categorizar(url)\n",
    "print(prediccion)"
   ]
  },
  {
   "cell_type": "code",
   "execution_count": 6,
   "metadata": {},
   "outputs": [],
   "source": [
    "def preprocess_image(image):\n",
    "    # Redimensionar la imagen a las dimensiones de entrada del modelo\n",
    "    resized_image = cv2.resize(image, (224, 224))  # Cambia las dimensiones a (224, 224) para que coincidan con el modelo\n",
    "    # Normalizar los valores de píxeles (si es necesario)\n",
    "    normalized_image = resized_image / 255.0  # Ajusta esto según cómo hayas preprocesado tus datos de entrenamiento\n",
    "    # Expandir las dimensiones de la imagen para que coincidan con el formato de entrada del modelo\n",
    "    processed_image = np.expand_dims(normalized_image, axis=0)\n",
    "    return processed_image\n"
   ]
  },
  {
   "cell_type": "code",
   "execution_count": null,
   "metadata": {},
   "outputs": [],
   "source": [
    "import cv2\n",
    "import numpy as np\n",
    "import time\n",
    "\n",
    "# Función para preprocesar la imagen capturada\n",
    "def preprocess_image(image):\n",
    "    resized_image = cv2.resize(image, (224, 224))\n",
    "    normalized_image = resized_image / 255.0\n",
    "    processed_image = np.expand_dims(normalized_image, axis=0)\n",
    "    return processed_image\n",
    "\n",
    "# Configuración de la cámara\n",
    "cap = cv2.VideoCapture(0)\n",
    "\n",
    "# Define las coordenadas (x, y) donde quieres colocar el texto\n",
    "x = 50\n",
    "y = 50\n",
    "\n",
    "while True:\n",
    "    ret, frame = cap.read()\n",
    "\n",
    "    if not ret:\n",
    "        print(\"No se pudo capturar un frame de la cámara.\")\n",
    "        break\n",
    "\n",
    "    # Procesar el frame actual\n",
    "    processed_frame = preprocess_image(frame)\n",
    "\n",
    "    # Clasificar la imagen utilizando el modelo y almacenar las probabilidades\n",
    "    prediction = model.predict(processed_frame)\n",
    "    probability_gato = prediction[0][0]\n",
    "    probability_perro = prediction[0][1]\n",
    "\n",
    "    # Dibujar un recuadro si se detecta un gato\n",
    "    if probability_gato >= 0.85:\n",
    "        # Dibujar un rectángulo alrededor de la región de interés\n",
    "        cv2.putText(frame, \"Gato\", (x, y - 10), cv2.FONT_HERSHEY_SIMPLEX, 0.9, (0, 255, 0), 2)\n",
    "    # Dibujar un recuadro si se detecta un perro\n",
    "    elif probability_perro >= 0.85:\n",
    "        # Dibujar un rectángulo alrededor de la región de interés\n",
    "        cv2.putText(frame, \"Perro\", (x, y - 10), cv2.FONT_HERSHEY_SIMPLEX, 0.9, (0, 255, 0), 2)\n",
    "\n",
    "    # Mostrar el frame con la información procesada\n",
    "    cv2.imshow('Procesamiento', frame)\n",
    "\n",
    "    if cv2.waitKey(1) & 0xFF == ord('q'):\n",
    "        break\n",
    "\n",
    "cap.release()\n",
    "cv2.destroyAllWindows()\n",
    "\n"
   ]
  }
 ],
 "metadata": {
  "kernelspec": {
   "display_name": "zekekernel",
   "language": "python",
   "name": "zekekernel"
  },
  "language_info": {
   "codemirror_mode": {
    "name": "ipython",
    "version": 3
   },
   "file_extension": ".py",
   "mimetype": "text/x-python",
   "name": "python",
   "nbconvert_exporter": "python",
   "pygments_lexer": "ipython3",
   "version": "3.11.9"
  }
 },
 "nbformat": 4,
 "nbformat_minor": 2
}
